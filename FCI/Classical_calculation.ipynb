{
  "nbformat": 4,
  "nbformat_minor": 0,
  "metadata": {
    "colab": {
      "provenance": []
    },
    "kernelspec": {
      "name": "python3",
      "display_name": "Python 3"
    },
    "language_info": {
      "name": "python"
    }
  },
  "cells": [
    {
      "cell_type": "markdown",
      "source": [
        "STO-3G FCI(Full Configuration Interaction) Calculation for H2."
      ],
      "metadata": {
        "id": "LjPH4Dm3hmmR"
      }
    },
    {
      "cell_type": "code",
      "source": [
        "from pyscf import gto, scf, fci\n",
        "\n",
        "# H2 molecule\n",
        "mol = gto.M(atom=\"H 0 0 0; H 0 0 0.741\", basis='sto-3g', spin=0, charge=0)\n",
        "\n",
        "# Hartree-Fock\n",
        "mf = scf.RHF(mol)\n",
        "hf_energy = mf.kernel()\n",
        "print(f\"H2 Hartree-Fock energy (Hartree): {hf_energy:.8f}\")\n",
        "\n",
        "# FCI\n",
        "cisolver = fci.FCI(mf)\n",
        "fcienergy, fcivec = cisolver.kernel()\n",
        "print(f\"H2 FCI energy (Hartree): {fcienergy:.8f}\")"
      ],
      "metadata": {
        "id": "FBdWsYJN0zo7"
      },
      "execution_count": null,
      "outputs": []
    },
    {
      "cell_type": "markdown",
      "source": [
        "STO-3G FCI(Full Configuration Interaction) Calculation for LiH."
      ],
      "metadata": {
        "id": "j1UksPWv05DC"
      }
    },
    {
      "cell_type": "code",
      "source": [
        "from pyscf import gto, scf, fci\n",
        "\n",
        "# 1. Build the molecule\n",
        "mol = gto.M(\n",
        "    atom='Li 0 0 0; H 0 0 1.5',  # bond length in Angstrom\n",
        "    basis='sto-3g',\n",
        "    spin=0,       # 2S = 0 for singlet\n",
        "    charge=0\n",
        ")\n",
        "\n",
        "# 2. Hartree-Fock\n",
        "mf = scf.RHF(mol)\n",
        "hf_energy = mf.kernel()\n",
        "print(\"HF Energy (Hartree):\", hf_energy)\n",
        "\n",
        "# 3. Full Configuration Interaction (FCI)\n",
        "cisolver = fci.FCI(mf)\n",
        "fcienergy, fcivec = cisolver.kernel()\n",
        "print(\"FCI Energy (Hartree):\", fcienergy)"
      ],
      "metadata": {
        "id": "svIzBds90-RP"
      },
      "execution_count": null,
      "outputs": []
    },
    {
      "cell_type": "markdown",
      "source": [
        "STO-3G FCI(Full Configuration Interaction) Calculation for BeH2."
      ],
      "metadata": {
        "id": "UgLTuTnY1FGN"
      }
    },
    {
      "cell_type": "code",
      "source": [
        "from pyscf import gto, scf, fci\n",
        "\n",
        "# BeH2 molecule\n",
        "mol = gto.M(atom=\"Be 0 0 0; H 0 0 1.3; H 0 0 -1.3\", basis='sto-3g', spin=0, charge=0)\n",
        "\n",
        "# Hartree-Fock\n",
        "mf = scf.RHF(mol)\n",
        "hf_energy = mf.kernel()\n",
        "print(f\"BeH2 Hartree-Fock energy (Hartree): {hf_energy:.8f}\")\n",
        "\n",
        "# FCI\n",
        "cisolver = fci.FCI(mf)\n",
        "fcienergy, fcivec = cisolver.kernel()\n",
        "print(f\"BeH2 FCI energy (Hartree): {fcienergy:.8f}\")\n"
      ],
      "metadata": {
        "id": "BnowfZFD1KJq"
      },
      "execution_count": null,
      "outputs": []
    }
  ]
}