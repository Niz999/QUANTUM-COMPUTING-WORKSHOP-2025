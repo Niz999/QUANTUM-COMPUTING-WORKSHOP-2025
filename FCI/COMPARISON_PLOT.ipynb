{
  "nbformat": 4,
  "nbformat_minor": 0,
  "metadata": {
    "colab": {
      "provenance": []
    },
    "kernelspec": {
      "name": "python3",
      "display_name": "Python 3"
    },
    "language_info": {
      "name": "python"
    }
  },
  "cells": [
    {
      "cell_type": "markdown",
      "source": [
        "Plotting the comparison between experimental vs FCI vs VQE\n"
      ],
      "metadata": {
        "id": "niUwVPY_GNX-"
      }
    },
    {
      "cell_type": "code",
      "source": [
        "import matplotlib.pyplot as plt\n",
        "import numpy as np\n",
        "from mpl_toolkits.axes_grid1.inset_locator import inset_axes\n",
        "\n",
        "# Methods\n",
        "methods = [\"Experimental\", \"FCI\", \"VQE\"]\n",
        "\n",
        "# Energies\n",
        "energies = [-1.174,]\n",
        "\n",
        "x_pos = np.arange(len(methods))\n",
        "\n",
        "fig, ax = plt.subplots(figsize=(7,5))\n",
        "bars = ax.bar(x_pos, energies, color=[\"red\", \"green\", \"blue\"], alpha=0.7)\n",
        "ax.set_xticks(x_pos)\n",
        "ax.set_xticklabels(methods)\n",
        "ax.set_ylabel(\"Ground-state energy (Hartree)\")\n",
        "ax.set_title(\"Ground State Energy at Equilibrium Bond Length\")\n",
        "\n",
        "for bar, energy in zip(bars, energies):\n",
        "    ax.text(bar.get_x() + bar.get_width()/2, energy + 0.002, f\"{energy:.3f}\",\n",
        "            ha='center', va='bottom', fontsize=10)\n",
        "\n",
        "# Zoomed-in inset to highlight FCI vs VQE\n",
        "axins = inset_axes(ax, width=\"45%\", height=\"45%\", loc=\"upper right\", borderpad=3)\n",
        "axins.bar(x_pos, energies, color=[\"red\", \"green\", \"blue\"], alpha=0.7)\n",
        "\n",
        "# Limit zoom\n",
        "axins.set_ylim(-1.138, -1.1365)\n",
        "axins.set_xticks(x_pos)\n",
        "axins.set_xticklabels(methods, fontsize=8)\n",
        "axins.set_title(\"Zoomed view (FCI vs VQE)\", fontsize=8)\n",
        "\n",
        "plt.show()"
      ],
      "metadata": {
        "id": "wyfui5MGGPIE"
      },
      "execution_count": null,
      "outputs": []
    }
  ]
}