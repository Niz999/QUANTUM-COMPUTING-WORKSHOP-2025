{
  "nbformat": 4,
  "nbformat_minor": 0,
  "metadata": {
    "colab": {
      "provenance": []
    },
    "kernelspec": {
      "name": "python3",
      "display_name": "Python 3"
    },
    "language_info": {
      "name": "python"
    }
  },
  "cells": [
    {
      "cell_type": "markdown",
      "source": [
        "**MAPPER**\n",
        "\n",
        "This will create the Qubit Hamiltonian from the Second-quantized (fermionic) Hamiltonian.\n",
        "\n",
        "Mapping the Fermionic Hamiltonian to Qubit hamiltonian.\n",
        "\n",
        "This is the Second step in VQE.\n",
        "\n",
        "**Jordan-Wigner Mapping**.\n",
        "\n",
        "Simple and straightforward mapping.\n",
        "\n",
        "Produces long Pauli strings, leading to deeper quantum circuits."
      ],
      "metadata": {
        "id": "QBa8qzkxJf-C"
      }
    },
    {
      "cell_type": "code",
      "source": [
        "mapper = JordanWignerMapper()\n",
        "qubit_hamiltonian = mapper.map(fermionic_hamiltonian)\n",
        "\n",
        "# Number of Pauli strings\n",
        "num_pauli_strings = len(qubit_hamiltonian)\n",
        "print(f\"Number of Pauli strings: {num_pauli_strings}\")\n",
        "\n",
        "# Print Qubit hamiltonian\n",
        "print(\"\\nQubit Hamiltonian :\")\n",
        "print(qubit_hamiltonian)"
      ],
      "metadata": {
        "id": "XwzK7d_1Joa0"
      },
      "execution_count": null,
      "outputs": []
    },
    {
      "cell_type": "markdown",
      "source": [
        "For **Parity Mapper**.\n",
        "\n",
        "Can reduce 2 qubits for molecules with even electrons\n",
        "\n",
        "Slightly shorter Pauli strings than JW → more efficient circuits."
      ],
      "metadata": {
        "id": "YzgJ7jYFcgsS"
      }
    },
    {
      "cell_type": "code",
      "source": [
        "from qiskit_nature.second_q.mappers import ParityMapper\n",
        "mapper = ParityMapper()"
      ],
      "metadata": {
        "id": "IZb0ms6BcmeF"
      },
      "execution_count": null,
      "outputs": []
    },
    {
      "cell_type": "markdown",
      "source": [
        "**Bravyi-Kitaev (BK)**.\n",
        "\n",
        "Efficient mapping with shorter Pauli strings.\n",
        "\n",
        "Produces shallower circuits → less noise on real hardware.\n",
        "\n",
        "Good choice for larger molecules or hardware-efficient simulations."
      ],
      "metadata": {
        "id": "VeGxKL45eD7X"
      }
    },
    {
      "cell_type": "code",
      "source": [
        "from qiskit_nature.second_q.mappers import BravyiKitaevMapper\n",
        "mapper = BravyiKitaevMapper()"
      ],
      "metadata": {
        "id": "g4Mv3Xn-eVSt"
      },
      "execution_count": null,
      "outputs": []
    }
  ]
}