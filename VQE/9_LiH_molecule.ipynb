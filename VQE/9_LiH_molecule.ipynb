{
  "nbformat": 4,
  "nbformat_minor": 0,
  "metadata": {
    "colab": {
      "provenance": []
    },
    "kernelspec": {
      "name": "python3",
      "display_name": "Python 3"
    },
    "language_info": {
      "name": "python"
    }
  },
  "cells": [
    {
      "cell_type": "markdown",
      "source": [
        "LiH molecule ground state with Active Space Transformation."
      ],
      "metadata": {
        "id": "LjPH4Dm3hmmR"
      }
    },
    {
      "cell_type": "code",
      "source": [
        "from qiskit_nature.second_q.drivers import PySCFDriver\n",
        "from qiskit_nature.second_q.transformers import ActiveSpaceTransformer\n",
        "from qiskit_nature.second_q.mappers import JordanWignerMapper\n",
        "from qiskit_nature.second_q.circuit.library import UCCSD, HartreeFock\n",
        "from qiskit_nature.second_q.algorithms import GroundStateEigensolver\n",
        "from qiskit_algorithms import VQE\n",
        "from qiskit_algorithms.optimizers import SLSQP\n",
        "from qiskit.primitives import Estimator\n",
        "\n",
        "# 1. Define molecule LiH\n",
        "driver = PySCFDriver(atom=\"Li 0 0 0; H 0 0 1.6\", basis=\"sto-3g\")  # 1.6 Å bond\n",
        "es_problem = driver.run()\n",
        "\n",
        "# 2. Apply Frozen Core Approximation (active space transformer)\n",
        "# For LiH, we freeze Li 1s core orbital and keep 2 electrons in 2 spatial orbitals\n",
        "transformer = ActiveSpaceTransformer(num_electrons=2, num_spatial_orbitals=2)\n",
        "es_problem_reduced = transformer.transform(es_problem)\n",
        "\n",
        "# 3. Mapper\n",
        "mapper = JordanWignerMapper()\n",
        "\n",
        "# 4. Ansatz (UCCSD + HartreeFock)\n",
        "ansatz = UCCSD(\n",
        "    es_problem_reduced.num_spatial_orbitals,\n",
        "    es_problem_reduced.num_particles,\n",
        "    mapper,\n",
        "    initial_state=HartreeFock(\n",
        "        es_problem_reduced.num_spatial_orbitals,\n",
        "        es_problem_reduced.num_particles,\n",
        "        mapper,\n",
        "    ),\n",
        ")\n",
        "# 5. Optimizer\n",
        "optimizer = SLSQP(maxiter=200)\n",
        "\n",
        "# 6. VQE solver\n",
        "estimator = Estimator()\n",
        "vqe = VQE(estimator, ansatz, optimizer)\n",
        "\n",
        "solver = GroundStateEigensolver(mapper, vqe)\n",
        "\n",
        "# 7. Solve ground state\n",
        "res = solver.solve(es_problem_reduced)\n",
        "\n",
        "print(\" LiH Ground State Energy (Frozen Core)\")\n",
        "print(res)\n",
        "print(\"Ground state energy (Hartree):\", res.total_energies[0].real)\n"
      ],
      "metadata": {
        "id": "kBlweBs0gWdb"
      },
      "execution_count": null,
      "outputs": []
    }
  ]
}