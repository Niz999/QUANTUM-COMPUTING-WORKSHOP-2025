{
  "nbformat": 4,
  "nbformat_minor": 0,
  "metadata": {
    "colab": {
      "provenance": []
    },
    "kernelspec": {
      "name": "python3",
      "display_name": "Python 3"
    },
    "language_info": {
      "name": "python"
    }
  },
  "cells": [
    {
      "cell_type": "markdown",
      "source": [
        "Plotting the Different Bondlength versus their Energies we got from the VQE to find the Equilibrium distance.  "
      ],
      "metadata": {
        "id": "X1obLlCw9m9A"
      }
    },
    {
      "cell_type": "code",
      "source": [
        "import matplotlib.pyplot as plt\n",
        "import numpy as np\n",
        "\n",
        "# Bond lengths in Angstrom.\n",
        "bond_lengths = np.array([])\n",
        "\n",
        "# Energies obtained from VQE\n",
        "energies = np.array([])\n",
        "\n",
        "# Experimental/theoretical reference energy at equilibrium bond length\n",
        "exp_energy = -1.174\n",
        "\n",
        "# DFT reference energy (Hartree, from QE result you got: -1.1655 Ha)\n",
        "dft_energy =\n",
        "\n",
        "# Plot\n",
        "plt.figure(figsize=(8,5))\n",
        "plt.plot(bond_lengths, energies, marker='o', linestyle='-', color='blue', label='VQE energy')\n",
        "plt.axhline(y=exp_energy, color='red', linestyle='--', label='Experiemental Reference')\n",
        "plt.axhline(y=dft_energy, color='green', linestyle='--', linewidth=1.2, label='DFT Reference')\n",
        "\n",
        "plt.xlabel('Bond length (Å)')\n",
        "plt.ylabel('Ground-state energy (Hartree)')\n",
        "plt.title('Energy vs Bond Length')\n",
        "plt.grid(True, linestyle='--', alpha=0.6)\n",
        "plt.legend()\n",
        "plt.show()\n"
      ],
      "metadata": {
        "collapsed": true,
        "id": "ICk6rXaAYPh0"
      },
      "execution_count": null,
      "outputs": []
    },
    {
      "cell_type": "markdown",
      "source": [
        "Plotting the Different Ansatz versus their Energies we got from the VQE."
      ],
      "metadata": {
        "id": "ReOxYSQTYQX1"
      }
    },
    {
      "cell_type": "code",
      "source": [
        "import matplotlib.pyplot as plt\n",
        "import numpy as np\n",
        "\n",
        "# Ansatz names\n",
        "ansatz_names = ['HF', 'CHC', 'UCCSD']\n",
        "\n",
        "# VQE result for different ansatz\n",
        "energies = [1,2,3]\n",
        "\n",
        "# Experimental/theoretical reference energy\n",
        "exp_energy = -1.174\n",
        "\n",
        "# DFT reference energy (Hartree, from QE result you got: -1.1655 Ha)\n",
        "dft_energy =\n",
        "\n",
        "# Convert ansatz names to numeric positions for plotting\n",
        "x_pos = np.arange(len(ansatz_names))\n",
        "\n",
        "# Create line plot\n",
        "plt.figure(figsize=(8,5))\n",
        "plt.plot(x_pos, energies, marker='o', linestyle='-', color='green', label='VQE energies')\n",
        "plt.axhline(y=exp_energy, color='red', linestyle='--', label='Experimental')\n",
        "plt.axhline(y=dft_energy, color='green', linestyle='--', linewidth=1.2, label='DFT Reference')\n",
        "\n",
        "# Set x-axis labels to ansatz names\n",
        "plt.xticks(x_pos, ansatz_names)\n",
        "\n",
        "plt.ylabel('Ground-state energy (Hartree)')\n",
        "plt.title('Energy vs Ansatz at Equilibrium Bond Length')\n",
        "plt.grid(True, linestyle='--', alpha=0.6)\n",
        "plt.legend()\n",
        "plt.show()"
      ],
      "metadata": {
        "id": "wTBg28EWVzf4"
      },
      "execution_count": null,
      "outputs": []
    },
    {
      "cell_type": "markdown",
      "source": [
        "Plotting the different optimizers versus their result obtained from the VQE.\n",
        "\n",
        "PLOT 1 : Iteration count versus optimizers.\n",
        "\n",
        "PLOT 2 : Ground state energy versus optimizers.\n",
        "\n"
      ],
      "metadata": {
        "id": "yN69rCzbV1KJ"
      }
    },
    {
      "cell_type": "code",
      "source": [
        "import matplotlib.pyplot as plt\n",
        "import numpy as np\n",
        "\n",
        "# Note down the values we get using different optimizers.\n",
        "optimizers = [\"SLSQP\", \"COBYLA\", \"POWELL\", \"ADAM\"]\n",
        "\n",
        "# iterations each optimizer took\n",
        "iteration_counts = []\n",
        "\n",
        "# corresponding ground-state energies\n",
        "final_energies = []\n",
        "\n",
        "# Experimental/reference energy\n",
        "exp_energy = -1.174\n",
        "\n",
        "# DFT reference energy (Hartree, from QE result you got: -1.1655 Ha)\n",
        "dft_energy =\n",
        "\n",
        "# Plot 1: Iteration counts (Bar chart)\n",
        "plt.figure(figsize=(8,4))\n",
        "plt.bar(optimizers, iteration_counts, color='skyblue')\n",
        "plt.ylabel(\"Number of iterations\")\n",
        "plt.xlabel(\"Optimizer\")\n",
        "plt.title(\"VQE Iteration Count for Different Optimizers\")\n",
        "plt.grid(axis='y', linestyle='--', alpha=0.7)\n",
        "plt.show()\n",
        "\n",
        "# Plot 2: Final energies (Line plot)\n",
        "plt.figure(figsize=(8,4))\n",
        "plt.plot(optimizers, final_energies, 'o-', label=\"VQE Energy\")\n",
        "plt.axhline(y=exp_energy, color='red', linestyle='--', label=\"Experimental\")\n",
        "plt.axhline(y=dft_energy, color='green', linestyle='--', linewidth=1.2, label='DFT Reference')\n",
        "plt.ylabel(\"Ground-state energy (Hartree)\")\n",
        "plt.xlabel(\"Optimizer\")\n",
        "plt.title(\"Final Energy vs Optimizer with Experimental Reference\")\n",
        "plt.grid(True, linestyle='--', alpha=0.6)\n",
        "plt.legend()\n",
        "plt.show()\n"
      ],
      "metadata": {
        "id": "Eko7naOeK5BF"
      },
      "execution_count": null,
      "outputs": []
    }
  ]
}