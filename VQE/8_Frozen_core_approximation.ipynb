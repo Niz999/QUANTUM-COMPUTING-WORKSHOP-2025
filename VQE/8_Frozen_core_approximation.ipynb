{
  "nbformat": 4,
  "nbformat_minor": 0,
  "metadata": {
    "colab": {
      "provenance": []
    },
    "kernelspec": {
      "name": "python3",
      "display_name": "Python 3"
    },
    "language_info": {
      "name": "python"
    }
  },
  "cells": [
    {
      "cell_type": "markdown",
      "source": [
        "**Frozen Core Approximation**.\n",
        "\n",
        "This is the simplest and most common Hamiltonian reduction strategies you can directly apply in Qiskit Nature."
      ],
      "metadata": {
        "id": "QBa8qzkxJf-C"
      }
    },
    {
      "cell_type": "code",
      "source": [
        "es_problem = driver.run()\n",
        "\n",
        "# Apply frozen core Approximation\n",
        "transformer = FreezeCoreTransformer(freeze_core=True)\n",
        "es_problem = transformer.transform(es_problem)"
      ],
      "metadata": {
        "id": "A6lkLyLIi6f1"
      },
      "execution_count": null,
      "outputs": []
    }
  ]
}