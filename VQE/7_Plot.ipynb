{
  "nbformat": 4,
  "nbformat_minor": 0,
  "metadata": {
    "colab": {
      "provenance": []
    },
    "kernelspec": {
      "name": "python3",
      "display_name": "Python 3"
    },
    "language_info": {
      "name": "python"
    }
  },
  "cells": [
    {
      "cell_type": "markdown",
      "source": [
        "Plotting the Different Ansatz/optimizer versus their Energies we got from the VQE."
      ],
      "metadata": {
        "id": "niUwVPY_GNX-"
      }
    },
    {
      "cell_type": "code",
      "source": [
        "import matplotlib.pyplot as plt\n",
        "import numpy as np\n",
        "\n",
        "# Ansatz names/optimizer names\n",
        "names = ['HF', 'CHC', 'UCCSD']\n",
        "\n",
        "# VQE results for different ansatz/optimizers\n",
        "energies = []\n",
        "\n",
        "# Experimental reference energy\n",
        "exp_energy = -1.174\n",
        "\n",
        "# Convert ansatz names/optimizer to numeric positions for plotting\n",
        "x_pos = np.arange(len(names))\n",
        "\n",
        "# Create main plot\n",
        "fig, ax = plt.subplots(figsize=(8,5))\n",
        "ax.plot(x_pos, energies, marker='o', linestyle='-', color='green', label='VQE energies')\n",
        "ax.axhline(y=exp_energy, color='red', linestyle='--', label='Experimental')\n",
        "\n",
        "# Set labels and title\n",
        "ax.set_xticks(x_pos)\n",
        "ax.set_xticklabels(names)\n",
        "ax.set_ylabel('Ground-state energy (Hartree)')\n",
        "ax.set_title('Energy vs Ansatz at Equilibrium Bond Length')#for optimizer change here\n",
        "ax.grid(True, linestyle='--', alpha=0.6)\n",
        "ax.legend()\n",
        "\n",
        "# Annotate points with exact values\n",
        "for x, energy in zip(x_pos, energies):\n",
        "    ax.text(x, energy + 0.0005, f\"{energy:.6f}\", ha='center', fontsize=9)\n",
        "\n",
        "# zoomed in to show tiny differences\n",
        "from mpl_toolkits.axes_grid1.inset_locator import inset_axes\n",
        "axins = inset_axes(ax, width=\"45%\", height=\"45%\", loc=\"lower left\", borderpad=3)\n",
        "axins.plot(x_pos, energies, marker='o', linestyle='-', color='green')\n",
        "axins.axhline(y=exp_energy, color='red', linestyle='--')\n",
        "\n",
        "# Zoom in range for inset\n",
        "axins.set_xlim(-0.2, 2.2)\n",
        "axins.set_ylim(min(energies) - 1e-7, max(energies) + 1e-7)\n",
        "axins.set_xticks(x_pos)\n",
        "axins.set_xticklabels(names, fontsize=8)\n",
        "axins.set_title(\"Zoomed view\", fontsize=8)\n",
        "axins.grid(True, linestyle='--', alpha=0.6)\n",
        "\n",
        "plt.show()"
      ],
      "metadata": {
        "id": "wyfui5MGGPIE"
      },
      "execution_count": null,
      "outputs": []
    },
    {
      "cell_type": "markdown",
      "source": [
        "Plotting the Different Bondlength versus their Energies we got from the VQE to find the Equilibrium distance."
      ],
      "metadata": {
        "id": "gfnc5ow8H0-B"
      }
    },
    {
      "cell_type": "code",
      "source": [
        "import matplotlib.pyplot as plt\n",
        "import numpy as np\n",
        "from mpl_toolkits.axes_grid1.inset_locator import inset_axes\n",
        "\n",
        "# Bond lengths in Angstrom.\n",
        "bond_lengths = np.array([])\n",
        "\n",
        "# VQE energies (example values)\n",
        "energies = np.array([])\n",
        "\n",
        "# Experimental reference energy\n",
        "exp_energy = -1.174\n",
        "\n",
        "# Main plot\n",
        "fig, ax = plt.subplots(figsize=(8,5))\n",
        "ax.plot(bond_lengths, energies, marker='o', linestyle='-', color='blue', label='VQE energies')\n",
        "ax.axhline(y=exp_energy, color='red', linestyle='--', label='Experimental')\n",
        "\n",
        "# Labels and title\n",
        "ax.set_xlabel('Bond length (Å)')\n",
        "ax.set_ylabel('Ground-state energy (Hartree)')\n",
        "ax.set_title('Energy vs Bond Length (H₂)')\n",
        "ax.grid(True, linestyle='--', alpha=0.6)\n",
        "ax.legend()\n",
        "\n",
        "# Annotate points with exact values\n",
        "for x, energy in zip(bond_lengths, energies):\n",
        "    ax.text(x, energy + 0.0005, f\"{energy:.6f}\", ha='center', fontsize=9)\n",
        "\n",
        "# Zoomed-in inset\n",
        "axins = inset_axes(ax, width=\"45%\", height=\"45%\", loc=\"lower left\", borderpad=3)\n",
        "axins.plot(bond_lengths, energies, marker='o', linestyle='-', color='blue')\n",
        "axins.axhline(y=exp_energy, color='red', linestyle='--')\n",
        "\n",
        "# Zoom range for inset (very tight to show tiny variations)\n",
        "axins.set_xlim(min(bond_lengths), max(bond_lengths))\n",
        "axins.set_ylim(min(energies) - 1e-7, max(energies) + 1e-7)\n",
        "\n",
        "axins.set_xticks(bond_lengths)\n",
        "axins.set_title(\"Zoomed view\", fontsize=8)\n",
        "axins.grid(True, linestyle='--', alpha=0.6)\n",
        "\n",
        "plt.show()\n"
      ],
      "metadata": {
        "id": "fV9Sdzf_Fa1c"
      },
      "execution_count": null,
      "outputs": []
    }
  ]
}