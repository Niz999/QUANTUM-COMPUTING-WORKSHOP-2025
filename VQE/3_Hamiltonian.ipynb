{
  "nbformat": 4,
  "nbformat_minor": 0,
  "metadata": {
    "colab": {
      "provenance": []
    },
    "kernelspec": {
      "name": "python3",
      "display_name": "Python 3"
    },
    "language_info": {
      "name": "python"
    }
  },
  "cells": [
    {
      "cell_type": "markdown",
      "source": [
        "This will create the Second-quantized (fermionic) Hamiltonian using PySCF package.\n",
        "This is the First step in VQE."
      ],
      "metadata": {
        "id": "QBa8qzkxJf-C"
      }
    },
    {
      "cell_type": "code",
      "source": [
        "driver = PySCFDriver(\n",
        "    atom=\"H 0 0 0; H 0 0 0.735\",  # H2 molecule\n",
        "    basis=\"sto3g\",\n",
        "    charge=0,\n",
        "    spin=0,\n",
        "    unit=DistanceUnit.ANGSTROM\n",
        ")\n",
        "\n",
        "es_problem = driver.run()\n",
        "fermionic_hamiltonian = es_problem.second_q_ops()[0]\n",
        "\n",
        "# Print the classical Hamiltonian\n",
        "print(\"Classical electronic Hamiltonian (fermionic):\")\n",
        "print(fermionic_hamiltonian)"
      ],
      "metadata": {
        "id": "XwzK7d_1Joa0"
      },
      "execution_count": null,
      "outputs": []
    }
  ]
}