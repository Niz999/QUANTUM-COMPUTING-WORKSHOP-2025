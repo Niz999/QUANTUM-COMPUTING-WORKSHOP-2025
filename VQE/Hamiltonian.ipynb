{
  "nbformat": 4,
  "nbformat_minor": 0,
  "metadata": {
    "colab": {
      "provenance": []
    },
    "kernelspec": {
      "name": "python3",
      "display_name": "Python 3"
    },
    "language_info": {
      "name": "python"
    }
  },
  "cells": [
    {
      "cell_type": "markdown",
      "source": [
        " # H₂ Molecule: Classical Hamiltonian\n",
        "\n",
        "This shows the **second-quantized (fermionic) Hamiltonian** of H₂.  \n",
        "- Uses fermionic creation (`a†`) and annihilation (`a`) operators.  \n",
        "- Coefficients come from classical electronic integrals.  \n",
        "\n",
        "This is the **Starting point for VQE**."
      ],
      "metadata": {
        "id": "QBa8qzkxJf-C"
      }
    },
    {
      "cell_type": "code",
      "source": [
        "driver = PySCFDriver(\n",
        "    atom=\"H 0 0 0; H 0 0 0.735\",  # H2 molecule\n",
        "    basis=\"sto3g\",\n",
        "    charge=0,\n",
        "    spin=0,\n",
        "    unit=DistanceUnit.ANGSTROM\n",
        ")\n",
        "\n",
        "es_problem = driver.run()\n",
        "fermionic_hamiltonian = es_problem.second_q_ops()[0]\n",
        "\n",
        "# Print the classical Hamiltonian\n",
        "print(\"Classical electronic Hamiltonian (fermionic):\")\n",
        "print(fermionic_hamiltonian)"
      ],
      "metadata": {
        "id": "XwzK7d_1Joa0"
      },
      "execution_count": null,
      "outputs": []
    }
  ]
}