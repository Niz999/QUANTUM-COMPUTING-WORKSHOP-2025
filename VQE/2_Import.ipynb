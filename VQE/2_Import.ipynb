{
  "nbformat": 4,
  "nbformat_minor": 0,
  "metadata": {
    "colab": {
      "provenance": []
    },
    "kernelspec": {
      "name": "python3",
      "display_name": "Python 3"
    },
    "language_info": {
      "name": "python"
    }
  },
  "cells": [
    {
      "cell_type": "markdown",
      "source": [
        "Importing the specific libraries from the packages which we have Installed to run VQE.."
      ],
      "metadata": {
        "id": "OnwQlffsg6P5"
      }
    },
    {
      "cell_type": "code",
      "source": [
        "%matplotlib inline\n",
        "from qiskit_nature.units import DistanceUnit\n",
        "from qiskit_nature.second_q.drivers import PySCFDriver\n",
        "from qiskit_nature.second_q.transformers import FreezeCoreTransformer\n",
        "from qiskit_nature.second_q.mappers import JordanWignerMapper, ParityMapper, BravyiKitaevMapper\n",
        "from qiskit_nature.second_q.algorithms import GroundStateEigensolver\n",
        "from qiskit_algorithms import VQE\n",
        "from qiskit_algorithms.optimizers import SLSQP, COBYLA, POWELL, ADAM\n",
        "from qiskit.primitives import Estimator\n",
        "from qiskit_nature.second_q.circuit.library import HartreeFock, UCCSD, PUCCSD, CHC, PUCCD,SUCCD\n",
        "import matplotlib.pyplot as plt"
      ],
      "metadata": {
        "id": "o92X6verh3f-"
      },
      "execution_count": null,
      "outputs": []
    }
  ]
}