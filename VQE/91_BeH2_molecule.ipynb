{
  "nbformat": 4,
  "nbformat_minor": 0,
  "metadata": {
    "colab": {
      "provenance": []
    },
    "kernelspec": {
      "name": "python3",
      "display_name": "Python 3"
    },
    "language_info": {
      "name": "python"
    }
  },
  "cells": [
    {
      "cell_type": "markdown",
      "source": [
        "BeH2 molecule ground state with Active Space Transformation."
      ],
      "metadata": {
        "id": "LjPH4Dm3hmmR"
      }
    },
    {
      "cell_type": "code",
      "source": [
        "from qiskit_nature.second_q.drivers import PySCFDriver\n",
        "from qiskit_nature.second_q.transformers import ActiveSpaceTransformer\n",
        "from qiskit_nature.second_q.mappers import JordanWignerMapper\n",
        "from qiskit_nature.second_q.circuit.library import UCCSD, HartreeFock\n",
        "from qiskit_nature.second_q.algorithms import GroundStateEigensolver\n",
        "from qiskit_algorithms import VQE\n",
        "from qiskit_algorithms.optimizers import SLSQP\n",
        "from qiskit.primitives import Estimator\n",
        "\n",
        "# 1. Define BeH2 molecule (linear geometry)\n",
        "driver = PySCFDriver(\n",
        "    atom=\"H 0 0 0; Be 0 0 1.3; H 0 0 2.6\",  # Be-H bond length ~1.3 Å\n",
        "    basis=\"sto-3g\"\n",
        ")\n",
        "es_problem = driver.run()\n",
        "\n",
        "# 2. Apply Frozen Core Approximation (active space transformer)\n",
        "# BeH2 has Be 1s core (2 electrons), so we freeze it\n",
        "# Remaining 4 valence electrons in 4 spatial orbitals (2 per H + Be 2s/2p)\n",
        "transformer = ActiveSpaceTransformer(num_electrons=4, num_spatial_orbitals=4)\n",
        "es_problem_reduced = transformer.transform(es_problem)\n",
        "\n",
        "# 3. Mapper\n",
        "mapper = JordanWignerMapper()\n",
        "\n",
        "# 4. Ansatz (UCCSD + HartreeFock)\n",
        "ansatz = UCCSD(\n",
        "    es_problem_reduced.num_spatial_orbitals,\n",
        "    es_problem_reduced.num_particles,\n",
        "    mapper,\n",
        "    initial_state=HartreeFock(\n",
        "        es_problem_reduced.num_spatial_orbitals,\n",
        "        es_problem_reduced.num_particles,\n",
        "        mapper,\n",
        "    ),\n",
        ")\n",
        "\n",
        "# 5. Optimizer\n",
        "optimizer = SLSQP(maxiter=200)\n",
        "\n",
        "# 6. VQE solver\n",
        "estimator = Estimator()\n",
        "vqe = VQE(estimator, ansatz, optimizer)\n",
        "solver = GroundStateEigensolver(mapper, vqe)\n",
        "\n",
        "# 7. Solve ground state\n",
        "res = solver.solve(es_problem_reduced)\n",
        "\n",
        "print(\"BeH2 Ground State Energy (Frozen Core):\")\n",
        "print(res)\n",
        "print(\"Ground state energy (Hartree):\", res.total_energies[0].real)\n"
      ],
      "metadata": {
        "id": "KaB0bbSxljaz"
      },
      "execution_count": null,
      "outputs": []
    }
  ]
}