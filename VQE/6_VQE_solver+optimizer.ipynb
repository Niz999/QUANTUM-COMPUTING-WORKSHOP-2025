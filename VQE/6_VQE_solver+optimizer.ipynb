{
  "nbformat": 4,
  "nbformat_minor": 0,
  "metadata": {
    "colab": {
      "provenance": []
    },
    "kernelspec": {
      "name": "python3",
      "display_name": "Python 3"
    },
    "language_info": {
      "name": "python"
    }
  },
  "cells": [
    {
      "cell_type": "markdown",
      "source": [
        "**OPTIMIZERS**\n",
        "\n",
        "**SLSQP** - Sequential Least Squares Quadratic Programming: gradient-based, high accuracy, handles constraints.\n",
        "\n",
        "**ADAM** - Adaptive Moment Estimation: gradient-based stochastic optimizer, medium-high accuracy, handles noisy landscapes.\n",
        "\n",
        "**POWELL** - Powell’s Direction Set Method: gradient-free, slower convergence, lower/medium accuracy.\n",
        "\n",
        "**COBYLA** - Constrained Optimization BY Linear Approximation: gradient-free, robust, medium accuracy."
      ],
      "metadata": {
        "id": "QBa8qzkxJf-C"
      }
    },
    {
      "cell_type": "markdown",
      "source": [
        "**Running VQE**\n",
        "\n",
        "Solving Ground State Energy Problem using VQE.  "
      ],
      "metadata": {
        "id": "X1obLlCw9m9A"
      }
    },
    {
      "cell_type": "code",
      "source": [
        "# Store iteration info\n",
        "energy_history = []\n",
        "\n",
        "def callback(eval_count, parameters, energy, std_dev):\n",
        "    energy_history.append(energy)\n",
        "    print(f\"Iteration {eval_count}: Energy = {energy}\")\n",
        "\n",
        "# Setup VQE(ansatz=ansatz_uccsd,optimizer=ADAM)\n",
        "vqe_solver = VQE(\n",
        "    estimator=Estimator(),\n",
        "    ansatz=ansatz,\n",
        "    optimizer=ADAM(),\n",
        "    callback=callback\n",
        ")\n",
        "\n",
        "# Solve\n",
        "calc = GroundStateEigensolver(mapper, vqe_solver)\n",
        "res = calc.solve(es_problem)\n"
      ],
      "metadata": {
        "id": "emQ2mHyQ7jvN"
      },
      "execution_count": null,
      "outputs": []
    },
    {
      "cell_type": "markdown",
      "source": [
        "Getting the Ground State Energy of the molecule."
      ],
      "metadata": {
        "id": "TbquJJ1Q-ALF"
      }
    },
    {
      "cell_type": "code",
      "source": [
        "# Energy of the ground state\n",
        "print(\"Ground-state energy:\", res.total_energies[0].real)"
      ],
      "metadata": {
        "id": "OI8N4uAh9REV"
      },
      "execution_count": null,
      "outputs": []
    },
    {
      "cell_type": "markdown",
      "source": [
        "Getting the iteration count of the Optimizer that have been used."
      ],
      "metadata": {
        "id": "S_sltM6S-KMm"
      }
    },
    {
      "cell_type": "code",
      "source": [
        "# Number of iterations\n",
        "print(\"Number of iterations:\", len(energy_history))\n"
      ],
      "metadata": {
        "id": "6eRPMV9B9VHF"
      },
      "execution_count": null,
      "outputs": []
    }
  ]
}
