{
  "nbformat": 4,
  "nbformat_minor": 0,
  "metadata": {
    "colab": {
      "provenance": []
    },
    "kernelspec": {
      "name": "python3",
      "display_name": "Python 3"
    },
    "language_info": {
      "name": "python"
    }
  },
  "cells": [
    {
      "cell_type": "markdown",
      "source": [
        "This script installs the required Python libraries for Implimenting VQE Algorithm (PySCF and Qiskit)."
      ],
      "metadata": {
        "id": "OnwQlffsg6P5"
      }
    },
    {
      "cell_type": "code",
      "source": [
        "!pip install qiskit==1.0.1 pyscf==2.6.1 qiskit_algorithms==0.3.0 qiskit_nature==0.7.2 pylatexenc"
      ],
      "metadata": {
        "id": "YhnBCglyg9Mv"
      },
      "execution_count": null,
      "outputs": []
    }
  ]
}