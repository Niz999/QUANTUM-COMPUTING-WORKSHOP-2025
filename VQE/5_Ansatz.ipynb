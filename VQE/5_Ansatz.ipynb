{
  "nbformat": 4,
  "nbformat_minor": 0,
  "metadata": {
    "colab": {
      "provenance": []
    },
    "kernelspec": {
      "name": "python3",
      "display_name": "Python 3"
    },
    "language_info": {
      "name": "python"
    }
  },
  "cells": [
    {
      "cell_type": "markdown",
      "source": [
        "**CHC (Circuit Hardware Efficient Ansatz with Constraints)**\n",
        "\n",
        "Shallow, low number of parameters, designed for NISQ devices.\n",
        "\n",
        "Focuses on circuit efficiency rather than chemical accuracy.\n",
        "\n",
        "Hardware-efficient.\n"
      ],
      "metadata": {
        "id": "QBa8qzkxJf-C"
      }
    },
    {
      "cell_type": "code",
      "source": [
        "# Get number of qubits\n",
        "qubit_op = mapper.map(es_problem.second_q_ops()[0])\n",
        "num_qubits = qubit_op.num_qubits\n",
        "\n",
        "# Excitations\n",
        "excitations = [((0,), (1,)), ((2,), (3,))]\n",
        "\n",
        "# Build CHC ansatz\n",
        "ansatz_chc = CHC(\n",
        "    num_qubits=num_qubits,\n",
        "    excitations=excitations,\n",
        "    reps=1,\n",
        ")\n",
        "\n",
        "print(\"CHC number of parameters:\", ansatz_chc.num_parameters)"
      ],
      "metadata": {
        "id": "Gsrl3woozE4O"
      },
      "execution_count": null,
      "outputs": []
    },
    {
      "cell_type": "markdown",
      "source": [
        "**Hartree-Fock (HF) Ansatz**\n",
        "\n",
        "Represents the mean-field, uncorrelated electron configuration\n",
        "\n",
        "Chemistry-inspired.\n",
        "\n",
        "Mean-field reference state, uncorrelated electrons, zero parameters."
      ],
      "metadata": {
        "id": "evzk2quYzI0U"
      }
    },
    {
      "cell_type": "code",
      "source": [
        "ansatz_hf = HartreeFock(\n",
        "    num_spatial_orbitals=es_problem.num_spatial_orbitals,\n",
        "    num_particles=es_problem.num_particles,\n",
        "    qubit_mapper=mapper\n",
        ")"
      ],
      "metadata": {
        "id": "GLBENAbVzTHj"
      },
      "execution_count": null,
      "outputs": []
    },
    {
      "cell_type": "markdown",
      "source": [
        "**UCCSD (Unitary Coupled Cluster with Single and Double excitations)**\n",
        "\n",
        "Based on coupled-cluster theory; includes singles and doubles excitations.\n",
        "\n",
        "Accurate for electronic ground-state energy but deeper circuits.\n",
        "\n",
        "Chemistry-inspired.\n",
        "\n",
        "PUCCD(Particle), PUCCSD, SUCCD(spin adapted)"
      ],
      "metadata": {
        "id": "2VZfA1qyzdMK"
      }
    },
    {
      "cell_type": "code",
      "source": [
        "ansatz = UCCSD(\n",
        "    es_problem.num_spatial_orbitals,\n",
        "    es_problem.num_particles,\n",
        "    mapper,\n",
        "    initial_state=HartreeFock(\n",
        "        es_problem.num_spatial_orbitals,\n",
        "        es_problem.num_particles,\n",
        "        mapper\n",
        "    ),\n",
        ")"
      ],
      "metadata": {
        "id": "vWD4TrtSxa2u"
      },
      "execution_count": null,
      "outputs": []
    },
    {
      "cell_type": "markdown",
      "source": [
        "Getting the circuit of the ansatz without fully decomposed (text view and the matplotlib view)."
      ],
      "metadata": {
        "id": "6tDiw7ULyfSw"
      }
    },
    {
      "cell_type": "code",
      "source": [
        "ansatz.draw(output='mpl')\n",
        "ansatz.draw(output='text')"
      ],
      "metadata": {
        "id": "3mH6aSuByfrk"
      },
      "execution_count": null,
      "outputs": []
    },
    {
      "cell_type": "markdown",
      "source": [
        "Getting the circuit of the ansatz which is fully decomposed."
      ],
      "metadata": {
        "id": "1zDM9JMby2_5"
      }
    },
    {
      "cell_type": "code",
      "source": [
        "# Defining circuit\n",
        "circuit = ansatz\n",
        "\n",
        "# Decomposing circuit into primitive gates\n",
        "while any(gate.definition is not None for gate, _, _ in circuit.data):\n",
        "    circuit = circuit.decompose()\n",
        "\n",
        "#For text view\n",
        "print(circuit.draw(output='text'))\n",
        "\n",
        "# Graphical gate view\n",
        "circuit.draw(output='mpl')\n"
      ],
      "metadata": {
        "id": "TojXKSO5xjMz"
      },
      "execution_count": null,
      "outputs": []
    }
  ]
}
